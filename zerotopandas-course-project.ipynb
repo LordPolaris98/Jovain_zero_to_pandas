{
 "cells": [
  {
   "cell_type": "markdown",
   "metadata": {},
   "source": [
    "## Data Analysis with Python: Zero to Pandas - Course Project"
   ]
  },
  {
   "cell_type": "markdown",
   "metadata": {},
   "source": [
    "# SuperMarket Sales - EDA \n",
    "\n",
    "The growth of supermarkets in most populated cities are increasing and market competitions are also high. The dataset is one of the historical sales of supermarket company which has recorded in 3 different branches for 3 months data. Predictive data analytics methods are easy to apply with this dataset.\n",
    "This dataset contains Supermarket sales records of a supermarket which has 3 Branches - A, B and C in three different cities - Mandalay, Yangon, Naypyitaw of Country Myanmar. There are 1000 records of customer purchases done in a time period of 3 months.  \n",
    "\n",
    "In this dataset there are columns. They are described below :-\n",
    "1. Invoice_ID - ID for the purchase done by customer\n",
    "2. Branch - Branch of SuperMarket\n",
    "3. City - City in which super market is located\n",
    "4. Customer_type - IF customer is a member or not \n",
    "6. Gender - Gender of customer\n",
    "7. Product_line - General item categorization groups - Electronic accessories, Fashion accessories, Food and beverages, Health and beauty, Home and lifestyle, Sports and travel\n",
    "8. Unit_price - Price of single piece of product\n",
    "9. Quantity - No. of Products purchased\n",
    "10. Tax_5% - Tax of 5% applied on product price for customer buying\n",
    "11. Total - Total Price(Tax + Unit Price*Quantity)\n",
    "12. Date - Date of Purchase\n",
    "13. Time - Time of Purchase (10AM to 9PM)\n",
    "14. Payment - Payment method (3 methods are available – Cash, Credit card and Ewallet)\n",
    "15. cogs - Cost of goods sold\n",
    "16. gross_margin_percentage \n",
    "17. gross_income\n",
    "18. Rating - Rating given by customer ( Out of 10)"
   ]
  },
  {
   "cell_type": "markdown",
   "metadata": {},
   "source": [
    "## Downloading the Dataset\n",
    "\n",
    "Here is this section, It is shown how to download a dataset from internet and upload it for cleaning and analysis."
   ]
  },
  {
   "cell_type": "code",
   "execution_count": 16,
   "metadata": {},
   "outputs": [],
   "source": [
    "!pip install jovian opendatasets --upgrade --quiet"
   ]
  },
  {
   "cell_type": "markdown",
   "metadata": {},
   "source": [
    "Let's begin by downloading the data, and listing the files within the dataset."
   ]
  },
  {
   "cell_type": "code",
   "execution_count": 17,
   "metadata": {},
   "outputs": [],
   "source": [
    "# Change this\n",
    "dataset_url = 'https://www.kaggle.com/datasets/aungpyaeap/supermarket-sales?resource=download' "
   ]
  },
  {
   "cell_type": "code",
   "execution_count": 18,
   "metadata": {},
   "outputs": [
    {
     "name": "stdout",
     "output_type": "stream",
     "text": [
      "Skipping, found downloaded files in \"./supermarket-sales\" (use force=True to force download)\n"
     ]
    }
   ],
   "source": [
    "import opendatasets as od\n",
    "od.download(dataset_url)"
   ]
  },
  {
   "cell_type": "markdown",
   "metadata": {},
   "source": [
    "The dataset has been downloaded and extracted."
   ]
  },
  {
   "cell_type": "code",
   "execution_count": 19,
   "metadata": {},
   "outputs": [],
   "source": [
    "# Change this\n",
    "data_dir = './supermarket-sales'"
   ]
  },
  {
   "cell_type": "code",
   "execution_count": 20,
   "metadata": {},
   "outputs": [
    {
     "data": {
      "text/plain": [
       "['supermarket_sales - Sheet1.csv']"
      ]
     },
     "execution_count": 20,
     "metadata": {},
     "output_type": "execute_result"
    }
   ],
   "source": [
    "import os\n",
    "os.listdir(data_dir)"
   ]
  },
  {
   "cell_type": "code",
   "execution_count": 21,
   "metadata": {},
   "outputs": [],
   "source": [
    "import numpy as np\n",
    "import pandas as pd\n",
    "import seaborn as sns\n",
    "import matplotlib\n",
    "import matplotlib.pyplot as plt\n",
    "%matplotlib inline\n",
    "\n",
    "sns.set_style('darkgrid')\n",
    "matplotlib.rcParams['font.size'] = 14\n",
    "matplotlib.rcParams['figure.figsize'] = (9, 5)\n",
    "matplotlib.rcParams['figure.facecolor'] = '#00000000'"
   ]
  },
  {
   "cell_type": "markdown",
   "metadata": {},
   "source": [
    "Let us save and upload our work to Jovian before continuing."
   ]
  },
  {
   "cell_type": "code",
   "execution_count": 22,
   "metadata": {},
   "outputs": [],
   "source": [
    "project_name = \"zerotopandas-course-project-supermarket_sales\" # change this (use lowercase letters and hyphens only)"
   ]
  },
  {
   "cell_type": "code",
   "execution_count": 23,
   "metadata": {},
   "outputs": [],
   "source": [
    "!pip install jovian --upgrade -q"
   ]
  },
  {
   "cell_type": "code",
   "execution_count": 7,
   "metadata": {},
   "outputs": [],
   "source": [
    "import jovian"
   ]
  },
  {
   "cell_type": "code",
   "execution_count": 8,
   "metadata": {},
   "outputs": [
    {
     "data": {
      "application/javascript": [
       "window.require && require([\"base/js/namespace\"],function(Jupyter){Jupyter.notebook.save_checkpoint()})"
      ],
      "text/plain": [
       "<IPython.core.display.Javascript object>"
      ]
     },
     "metadata": {},
     "output_type": "display_data"
    },
    {
     "name": "stdout",
     "output_type": "stream",
     "text": [
      "[jovian] Creating a new project \"polaris-codev/zerotopandas-course-project-supermarket_sales\"\u001b[0m\n",
      "[jovian] Committed successfully! https://jovian.ai/polaris-codev/zerotopandas-course-project-supermarket-sales\u001b[0m\n"
     ]
    },
    {
     "data": {
      "text/plain": [
       "'https://jovian.ai/polaris-codev/zerotopandas-course-project-supermarket-sales'"
      ]
     },
     "execution_count": 8,
     "metadata": {},
     "output_type": "execute_result"
    }
   ],
   "source": [
    "jovian.commit(project=project_name)"
   ]
  },
  {
   "cell_type": "markdown",
   "metadata": {},
   "source": [
    "## Data Preparation and Cleaning\n",
    "\n",
    "Here Data cleaning means replacing or removing data which is or will be useless for future analysis.\n",
    "Data cleaning is usally done by diffeent methods depending upon the column field. It may be replacing a value with zero, or average of its upper and lower row value or may be the whole average of column.\n",
    "\n"
   ]
  },
  {
   "cell_type": "code",
   "execution_count": 24,
   "metadata": {},
   "outputs": [],
   "source": [
    "sales_df= pd.read_csv('supermarket_sales - Sheet1.csv', header=0)"
   ]
  },
  {
   "cell_type": "code",
   "execution_count": 25,
   "metadata": {},
   "outputs": [],
   "source": [
    "sales_df[\"Date\"] = pd.to_datetime(sales_df[\"Date\"])\n",
    "sales_df = sales_df.sort_values(by=\"Date\")"
   ]
  },
  {
   "cell_type": "code",
   "execution_count": 28,
   "metadata": {},
   "outputs": [
    {
     "data": {
      "text/plain": [
       "Index(['Invoice_ID', 'Branch', 'City', 'Customer_type', 'Gender',\n",
       "       'Product_line', 'Unit_price', 'Quantity', 'Tax_5%', 'Total', 'Date',\n",
       "       'Time', 'Payment', 'cogs', 'gross_margin_percentage', 'gross_income',\n",
       "       'Rating'],\n",
       "      dtype='object')"
      ]
     },
     "execution_count": 28,
     "metadata": {},
     "output_type": "execute_result"
    }
   ],
   "source": [
    "sales_df.columns = sales_df.columns.str.replace(' ','_')\n",
    "sales_df.columns"
   ]
  },
  {
   "cell_type": "code",
   "execution_count": 29,
   "metadata": {},
   "outputs": [
    {
     "data": {
      "text/plain": [
       "Invoice_ID                         object\n",
       "Branch                             object\n",
       "City                               object\n",
       "Customer_type                      object\n",
       "Gender                             object\n",
       "Product_line                       object\n",
       "Unit_price                        float64\n",
       "Quantity                            int64\n",
       "Tax_5%                            float64\n",
       "Total                             float64\n",
       "Date                       datetime64[ns]\n",
       "Time                               object\n",
       "Payment                            object\n",
       "cogs                              float64\n",
       "gross_margin_percentage           float64\n",
       "gross_income                      float64\n",
       "Rating                            float64\n",
       "dtype: object"
      ]
     },
     "execution_count": 29,
     "metadata": {},
     "output_type": "execute_result"
    }
   ],
   "source": [
    "sales_df.dtypes"
   ]
  },
  {
   "cell_type": "code",
   "execution_count": 30,
   "metadata": {},
   "outputs": [
    {
     "data": {
      "text/html": [
       "<div>\n",
       "<style scoped>\n",
       "    .dataframe tbody tr th:only-of-type {\n",
       "        vertical-align: middle;\n",
       "    }\n",
       "\n",
       "    .dataframe tbody tr th {\n",
       "        vertical-align: top;\n",
       "    }\n",
       "\n",
       "    .dataframe thead th {\n",
       "        text-align: right;\n",
       "    }\n",
       "</style>\n",
       "<table border=\"1\" class=\"dataframe\">\n",
       "  <thead>\n",
       "    <tr style=\"text-align: right;\">\n",
       "      <th></th>\n",
       "      <th>Invoice_ID</th>\n",
       "      <th>Branch</th>\n",
       "      <th>City</th>\n",
       "      <th>Customer_type</th>\n",
       "      <th>Gender</th>\n",
       "      <th>Product_line</th>\n",
       "      <th>Unit_price</th>\n",
       "      <th>Quantity</th>\n",
       "      <th>Tax_5%</th>\n",
       "      <th>Total</th>\n",
       "      <th>Date</th>\n",
       "      <th>Time</th>\n",
       "      <th>Payment</th>\n",
       "      <th>cogs</th>\n",
       "      <th>gross_margin_percentage</th>\n",
       "      <th>gross_income</th>\n",
       "      <th>Rating</th>\n",
       "    </tr>\n",
       "  </thead>\n",
       "  <tbody>\n",
       "    <tr>\n",
       "      <th>856</th>\n",
       "      <td>770-42-8960</td>\n",
       "      <td>B</td>\n",
       "      <td>Mandalay</td>\n",
       "      <td>Normal</td>\n",
       "      <td>Male</td>\n",
       "      <td>Food and beverages</td>\n",
       "      <td>21.12</td>\n",
       "      <td>8</td>\n",
       "      <td>8.448</td>\n",
       "      <td>177.408</td>\n",
       "      <td>2019-01-01</td>\n",
       "      <td>19:31</td>\n",
       "      <td>Cash</td>\n",
       "      <td>168.96</td>\n",
       "      <td>4.761905</td>\n",
       "      <td>8.448</td>\n",
       "      <td>6.3</td>\n",
       "    </tr>\n",
       "    <tr>\n",
       "      <th>567</th>\n",
       "      <td>651-88-7328</td>\n",
       "      <td>A</td>\n",
       "      <td>Yangon</td>\n",
       "      <td>Normal</td>\n",
       "      <td>Female</td>\n",
       "      <td>Fashion accessories</td>\n",
       "      <td>65.74</td>\n",
       "      <td>9</td>\n",
       "      <td>29.583</td>\n",
       "      <td>621.243</td>\n",
       "      <td>2019-01-01</td>\n",
       "      <td>13:55</td>\n",
       "      <td>Cash</td>\n",
       "      <td>591.66</td>\n",
       "      <td>4.761905</td>\n",
       "      <td>29.583</td>\n",
       "      <td>7.7</td>\n",
       "    </tr>\n",
       "    <tr>\n",
       "      <th>245</th>\n",
       "      <td>530-90-9855</td>\n",
       "      <td>A</td>\n",
       "      <td>Yangon</td>\n",
       "      <td>Member</td>\n",
       "      <td>Male</td>\n",
       "      <td>Home and lifestyle</td>\n",
       "      <td>47.59</td>\n",
       "      <td>8</td>\n",
       "      <td>19.036</td>\n",
       "      <td>399.756</td>\n",
       "      <td>2019-01-01</td>\n",
       "      <td>14:47</td>\n",
       "      <td>Cash</td>\n",
       "      <td>380.72</td>\n",
       "      <td>4.761905</td>\n",
       "      <td>19.036</td>\n",
       "      <td>5.7</td>\n",
       "    </tr>\n",
       "    <tr>\n",
       "      <th>696</th>\n",
       "      <td>182-52-7000</td>\n",
       "      <td>A</td>\n",
       "      <td>Yangon</td>\n",
       "      <td>Member</td>\n",
       "      <td>Female</td>\n",
       "      <td>Sports and travel</td>\n",
       "      <td>27.04</td>\n",
       "      <td>4</td>\n",
       "      <td>5.408</td>\n",
       "      <td>113.568</td>\n",
       "      <td>2019-01-01</td>\n",
       "      <td>20:26</td>\n",
       "      <td>Ewallet</td>\n",
       "      <td>108.16</td>\n",
       "      <td>4.761905</td>\n",
       "      <td>5.408</td>\n",
       "      <td>6.9</td>\n",
       "    </tr>\n",
       "    <tr>\n",
       "      <th>523</th>\n",
       "      <td>133-14-7229</td>\n",
       "      <td>C</td>\n",
       "      <td>Naypyitaw</td>\n",
       "      <td>Normal</td>\n",
       "      <td>Male</td>\n",
       "      <td>Health and beauty</td>\n",
       "      <td>62.87</td>\n",
       "      <td>2</td>\n",
       "      <td>6.287</td>\n",
       "      <td>132.027</td>\n",
       "      <td>2019-01-01</td>\n",
       "      <td>11:43</td>\n",
       "      <td>Cash</td>\n",
       "      <td>125.74</td>\n",
       "      <td>4.761905</td>\n",
       "      <td>6.287</td>\n",
       "      <td>5.0</td>\n",
       "    </tr>\n",
       "    <tr>\n",
       "      <th>...</th>\n",
       "      <td>...</td>\n",
       "      <td>...</td>\n",
       "      <td>...</td>\n",
       "      <td>...</td>\n",
       "      <td>...</td>\n",
       "      <td>...</td>\n",
       "      <td>...</td>\n",
       "      <td>...</td>\n",
       "      <td>...</td>\n",
       "      <td>...</td>\n",
       "      <td>...</td>\n",
       "      <td>...</td>\n",
       "      <td>...</td>\n",
       "      <td>...</td>\n",
       "      <td>...</td>\n",
       "      <td>...</td>\n",
       "      <td>...</td>\n",
       "    </tr>\n",
       "    <tr>\n",
       "      <th>158</th>\n",
       "      <td>743-04-1105</td>\n",
       "      <td>B</td>\n",
       "      <td>Mandalay</td>\n",
       "      <td>Member</td>\n",
       "      <td>Male</td>\n",
       "      <td>Health and beauty</td>\n",
       "      <td>97.22</td>\n",
       "      <td>9</td>\n",
       "      <td>43.749</td>\n",
       "      <td>918.729</td>\n",
       "      <td>2019-03-30</td>\n",
       "      <td>14:43</td>\n",
       "      <td>Ewallet</td>\n",
       "      <td>874.98</td>\n",
       "      <td>4.761905</td>\n",
       "      <td>43.749</td>\n",
       "      <td>6.0</td>\n",
       "    </tr>\n",
       "    <tr>\n",
       "      <th>881</th>\n",
       "      <td>115-38-7388</td>\n",
       "      <td>C</td>\n",
       "      <td>Naypyitaw</td>\n",
       "      <td>Member</td>\n",
       "      <td>Female</td>\n",
       "      <td>Fashion accessories</td>\n",
       "      <td>10.18</td>\n",
       "      <td>8</td>\n",
       "      <td>4.072</td>\n",
       "      <td>85.512</td>\n",
       "      <td>2019-03-30</td>\n",
       "      <td>12:51</td>\n",
       "      <td>Credit card</td>\n",
       "      <td>81.44</td>\n",
       "      <td>4.761905</td>\n",
       "      <td>4.072</td>\n",
       "      <td>9.5</td>\n",
       "    </tr>\n",
       "    <tr>\n",
       "      <th>963</th>\n",
       "      <td>364-34-2972</td>\n",
       "      <td>C</td>\n",
       "      <td>Naypyitaw</td>\n",
       "      <td>Member</td>\n",
       "      <td>Male</td>\n",
       "      <td>Electronic accessories</td>\n",
       "      <td>96.82</td>\n",
       "      <td>3</td>\n",
       "      <td>14.523</td>\n",
       "      <td>304.983</td>\n",
       "      <td>2019-03-30</td>\n",
       "      <td>20:37</td>\n",
       "      <td>Cash</td>\n",
       "      <td>290.46</td>\n",
       "      <td>4.761905</td>\n",
       "      <td>14.523</td>\n",
       "      <td>6.7</td>\n",
       "    </tr>\n",
       "    <tr>\n",
       "      <th>937</th>\n",
       "      <td>361-85-2571</td>\n",
       "      <td>A</td>\n",
       "      <td>Yangon</td>\n",
       "      <td>Normal</td>\n",
       "      <td>Female</td>\n",
       "      <td>Sports and travel</td>\n",
       "      <td>89.48</td>\n",
       "      <td>5</td>\n",
       "      <td>22.370</td>\n",
       "      <td>469.770</td>\n",
       "      <td>2019-03-30</td>\n",
       "      <td>10:18</td>\n",
       "      <td>Cash</td>\n",
       "      <td>447.40</td>\n",
       "      <td>4.761905</td>\n",
       "      <td>22.370</td>\n",
       "      <td>7.4</td>\n",
       "    </tr>\n",
       "    <tr>\n",
       "      <th>474</th>\n",
       "      <td>676-39-6028</td>\n",
       "      <td>A</td>\n",
       "      <td>Yangon</td>\n",
       "      <td>Member</td>\n",
       "      <td>Female</td>\n",
       "      <td>Electronic accessories</td>\n",
       "      <td>64.44</td>\n",
       "      <td>5</td>\n",
       "      <td>16.110</td>\n",
       "      <td>338.310</td>\n",
       "      <td>2019-03-30</td>\n",
       "      <td>17:04</td>\n",
       "      <td>Cash</td>\n",
       "      <td>322.20</td>\n",
       "      <td>4.761905</td>\n",
       "      <td>16.110</td>\n",
       "      <td>6.6</td>\n",
       "    </tr>\n",
       "  </tbody>\n",
       "</table>\n",
       "<p>1000 rows × 17 columns</p>\n",
       "</div>"
      ],
      "text/plain": [
       "      Invoice_ID Branch       City Customer_type  Gender  \\\n",
       "856  770-42-8960      B   Mandalay        Normal    Male   \n",
       "567  651-88-7328      A     Yangon        Normal  Female   \n",
       "245  530-90-9855      A     Yangon        Member    Male   \n",
       "696  182-52-7000      A     Yangon        Member  Female   \n",
       "523  133-14-7229      C  Naypyitaw        Normal    Male   \n",
       "..           ...    ...        ...           ...     ...   \n",
       "158  743-04-1105      B   Mandalay        Member    Male   \n",
       "881  115-38-7388      C  Naypyitaw        Member  Female   \n",
       "963  364-34-2972      C  Naypyitaw        Member    Male   \n",
       "937  361-85-2571      A     Yangon        Normal  Female   \n",
       "474  676-39-6028      A     Yangon        Member  Female   \n",
       "\n",
       "               Product_line  Unit_price  Quantity  Tax_5%    Total       Date  \\\n",
       "856      Food and beverages       21.12         8   8.448  177.408 2019-01-01   \n",
       "567     Fashion accessories       65.74         9  29.583  621.243 2019-01-01   \n",
       "245      Home and lifestyle       47.59         8  19.036  399.756 2019-01-01   \n",
       "696       Sports and travel       27.04         4   5.408  113.568 2019-01-01   \n",
       "523       Health and beauty       62.87         2   6.287  132.027 2019-01-01   \n",
       "..                      ...         ...       ...     ...      ...        ...   \n",
       "158       Health and beauty       97.22         9  43.749  918.729 2019-03-30   \n",
       "881     Fashion accessories       10.18         8   4.072   85.512 2019-03-30   \n",
       "963  Electronic accessories       96.82         3  14.523  304.983 2019-03-30   \n",
       "937       Sports and travel       89.48         5  22.370  469.770 2019-03-30   \n",
       "474  Electronic accessories       64.44         5  16.110  338.310 2019-03-30   \n",
       "\n",
       "      Time      Payment    cogs  gross_margin_percentage  gross_income  Rating  \n",
       "856  19:31         Cash  168.96                 4.761905         8.448     6.3  \n",
       "567  13:55         Cash  591.66                 4.761905        29.583     7.7  \n",
       "245  14:47         Cash  380.72                 4.761905        19.036     5.7  \n",
       "696  20:26      Ewallet  108.16                 4.761905         5.408     6.9  \n",
       "523  11:43         Cash  125.74                 4.761905         6.287     5.0  \n",
       "..     ...          ...     ...                      ...           ...     ...  \n",
       "158  14:43      Ewallet  874.98                 4.761905        43.749     6.0  \n",
       "881  12:51  Credit card   81.44                 4.761905         4.072     9.5  \n",
       "963  20:37         Cash  290.46                 4.761905        14.523     6.7  \n",
       "937  10:18         Cash  447.40                 4.761905        22.370     7.4  \n",
       "474  17:04         Cash  322.20                 4.761905        16.110     6.6  \n",
       "\n",
       "[1000 rows x 17 columns]"
      ]
     },
     "execution_count": 30,
     "metadata": {},
     "output_type": "execute_result"
    }
   ],
   "source": [
    "sales_df['Date']= pd.to_datetime(sales_df['Date'])\n",
    "sales_df.astype({'Invoice_ID': 'str','Branch':'str', 'Product_line':'str','Payment':'str'})"
   ]
  },
  {
   "cell_type": "code",
   "execution_count": 31,
   "metadata": {},
   "outputs": [],
   "source": [
    "sales2= sales_df[['Customer_type','Gender','City','Branch','Product_line','Unit_price','Date','Quantity','Tax_5%','Total','Rating']]"
   ]
  },
  {
   "cell_type": "code",
   "execution_count": 32,
   "metadata": {},
   "outputs": [
    {
     "data": {
      "text/html": [
       "<div>\n",
       "<style scoped>\n",
       "    .dataframe tbody tr th:only-of-type {\n",
       "        vertical-align: middle;\n",
       "    }\n",
       "\n",
       "    .dataframe tbody tr th {\n",
       "        vertical-align: top;\n",
       "    }\n",
       "\n",
       "    .dataframe thead th {\n",
       "        text-align: right;\n",
       "    }\n",
       "</style>\n",
       "<table border=\"1\" class=\"dataframe\">\n",
       "  <thead>\n",
       "    <tr style=\"text-align: right;\">\n",
       "      <th></th>\n",
       "      <th>Customer_type</th>\n",
       "      <th>Gender</th>\n",
       "      <th>City</th>\n",
       "      <th>Branch</th>\n",
       "      <th>Product_line</th>\n",
       "      <th>Unit_price</th>\n",
       "      <th>Date</th>\n",
       "      <th>Quantity</th>\n",
       "      <th>Tax_5%</th>\n",
       "      <th>Total</th>\n",
       "      <th>Rating</th>\n",
       "    </tr>\n",
       "  </thead>\n",
       "  <tbody>\n",
       "    <tr>\n",
       "      <th>856</th>\n",
       "      <td>Normal</td>\n",
       "      <td>Male</td>\n",
       "      <td>Mandalay</td>\n",
       "      <td>B</td>\n",
       "      <td>Food and beverages</td>\n",
       "      <td>21.12</td>\n",
       "      <td>2019-01-01</td>\n",
       "      <td>8</td>\n",
       "      <td>8.448</td>\n",
       "      <td>177.408</td>\n",
       "      <td>6.3</td>\n",
       "    </tr>\n",
       "    <tr>\n",
       "      <th>567</th>\n",
       "      <td>Normal</td>\n",
       "      <td>Female</td>\n",
       "      <td>Yangon</td>\n",
       "      <td>A</td>\n",
       "      <td>Fashion accessories</td>\n",
       "      <td>65.74</td>\n",
       "      <td>2019-01-01</td>\n",
       "      <td>9</td>\n",
       "      <td>29.583</td>\n",
       "      <td>621.243</td>\n",
       "      <td>7.7</td>\n",
       "    </tr>\n",
       "    <tr>\n",
       "      <th>245</th>\n",
       "      <td>Member</td>\n",
       "      <td>Male</td>\n",
       "      <td>Yangon</td>\n",
       "      <td>A</td>\n",
       "      <td>Home and lifestyle</td>\n",
       "      <td>47.59</td>\n",
       "      <td>2019-01-01</td>\n",
       "      <td>8</td>\n",
       "      <td>19.036</td>\n",
       "      <td>399.756</td>\n",
       "      <td>5.7</td>\n",
       "    </tr>\n",
       "    <tr>\n",
       "      <th>696</th>\n",
       "      <td>Member</td>\n",
       "      <td>Female</td>\n",
       "      <td>Yangon</td>\n",
       "      <td>A</td>\n",
       "      <td>Sports and travel</td>\n",
       "      <td>27.04</td>\n",
       "      <td>2019-01-01</td>\n",
       "      <td>4</td>\n",
       "      <td>5.408</td>\n",
       "      <td>113.568</td>\n",
       "      <td>6.9</td>\n",
       "    </tr>\n",
       "    <tr>\n",
       "      <th>523</th>\n",
       "      <td>Normal</td>\n",
       "      <td>Male</td>\n",
       "      <td>Naypyitaw</td>\n",
       "      <td>C</td>\n",
       "      <td>Health and beauty</td>\n",
       "      <td>62.87</td>\n",
       "      <td>2019-01-01</td>\n",
       "      <td>2</td>\n",
       "      <td>6.287</td>\n",
       "      <td>132.027</td>\n",
       "      <td>5.0</td>\n",
       "    </tr>\n",
       "    <tr>\n",
       "      <th>829</th>\n",
       "      <td>Member</td>\n",
       "      <td>Female</td>\n",
       "      <td>Yangon</td>\n",
       "      <td>A</td>\n",
       "      <td>Electronic accessories</td>\n",
       "      <td>74.22</td>\n",
       "      <td>2019-01-01</td>\n",
       "      <td>10</td>\n",
       "      <td>37.110</td>\n",
       "      <td>779.310</td>\n",
       "      <td>4.3</td>\n",
       "    </tr>\n",
       "    <tr>\n",
       "      <th>496</th>\n",
       "      <td>Normal</td>\n",
       "      <td>Female</td>\n",
       "      <td>Naypyitaw</td>\n",
       "      <td>C</td>\n",
       "      <td>Electronic accessories</td>\n",
       "      <td>63.22</td>\n",
       "      <td>2019-01-01</td>\n",
       "      <td>2</td>\n",
       "      <td>6.322</td>\n",
       "      <td>132.762</td>\n",
       "      <td>8.5</td>\n",
       "    </tr>\n",
       "    <tr>\n",
       "      <th>970</th>\n",
       "      <td>Member</td>\n",
       "      <td>Female</td>\n",
       "      <td>Mandalay</td>\n",
       "      <td>B</td>\n",
       "      <td>Food and beverages</td>\n",
       "      <td>84.63</td>\n",
       "      <td>2019-01-01</td>\n",
       "      <td>10</td>\n",
       "      <td>42.315</td>\n",
       "      <td>888.615</td>\n",
       "      <td>9.0</td>\n",
       "    </tr>\n",
       "    <tr>\n",
       "      <th>484</th>\n",
       "      <td>Member</td>\n",
       "      <td>Female</td>\n",
       "      <td>Naypyitaw</td>\n",
       "      <td>C</td>\n",
       "      <td>Sports and travel</td>\n",
       "      <td>36.98</td>\n",
       "      <td>2019-01-01</td>\n",
       "      <td>10</td>\n",
       "      <td>18.490</td>\n",
       "      <td>388.290</td>\n",
       "      <td>7.0</td>\n",
       "    </tr>\n",
       "    <tr>\n",
       "      <th>17</th>\n",
       "      <td>Normal</td>\n",
       "      <td>Male</td>\n",
       "      <td>Yangon</td>\n",
       "      <td>A</td>\n",
       "      <td>Sports and travel</td>\n",
       "      <td>72.61</td>\n",
       "      <td>2019-01-01</td>\n",
       "      <td>6</td>\n",
       "      <td>21.783</td>\n",
       "      <td>457.443</td>\n",
       "      <td>6.9</td>\n",
       "    </tr>\n",
       "  </tbody>\n",
       "</table>\n",
       "</div>"
      ],
      "text/plain": [
       "    Customer_type  Gender       City Branch            Product_line  \\\n",
       "856        Normal    Male   Mandalay      B      Food and beverages   \n",
       "567        Normal  Female     Yangon      A     Fashion accessories   \n",
       "245        Member    Male     Yangon      A      Home and lifestyle   \n",
       "696        Member  Female     Yangon      A       Sports and travel   \n",
       "523        Normal    Male  Naypyitaw      C       Health and beauty   \n",
       "829        Member  Female     Yangon      A  Electronic accessories   \n",
       "496        Normal  Female  Naypyitaw      C  Electronic accessories   \n",
       "970        Member  Female   Mandalay      B      Food and beverages   \n",
       "484        Member  Female  Naypyitaw      C       Sports and travel   \n",
       "17         Normal    Male     Yangon      A       Sports and travel   \n",
       "\n",
       "     Unit_price       Date  Quantity  Tax_5%    Total  Rating  \n",
       "856       21.12 2019-01-01         8   8.448  177.408     6.3  \n",
       "567       65.74 2019-01-01         9  29.583  621.243     7.7  \n",
       "245       47.59 2019-01-01         8  19.036  399.756     5.7  \n",
       "696       27.04 2019-01-01         4   5.408  113.568     6.9  \n",
       "523       62.87 2019-01-01         2   6.287  132.027     5.0  \n",
       "829       74.22 2019-01-01        10  37.110  779.310     4.3  \n",
       "496       63.22 2019-01-01         2   6.322  132.762     8.5  \n",
       "970       84.63 2019-01-01        10  42.315  888.615     9.0  \n",
       "484       36.98 2019-01-01        10  18.490  388.290     7.0  \n",
       "17        72.61 2019-01-01         6  21.783  457.443     6.9  "
      ]
     },
     "execution_count": 32,
     "metadata": {},
     "output_type": "execute_result"
    }
   ],
   "source": [
    "sales2.sort_values('Date').head(10)"
   ]
  },
  {
   "cell_type": "code",
   "execution_count": 66,
   "metadata": {},
   "outputs": [],
   "source": [
    "import jovian"
   ]
  },
  {
   "cell_type": "code",
   "execution_count": 67,
   "metadata": {},
   "outputs": [
    {
     "data": {
      "application/javascript": [
       "window.require && require([\"base/js/namespace\"],function(Jupyter){Jupyter.notebook.save_checkpoint()})"
      ],
      "text/plain": [
       "<IPython.core.display.Javascript object>"
      ]
     },
     "metadata": {},
     "output_type": "display_data"
    },
    {
     "name": "stdout",
     "output_type": "stream",
     "text": [
      "[jovian] Updating notebook \"polaris-codev/zerotopandas-course-project-supermarket-sales\" on https://jovian.ai/\u001b[0m\n",
      "[jovian] Committed successfully! https://jovian.ai/polaris-codev/zerotopandas-course-project-supermarket-sales\u001b[0m\n"
     ]
    },
    {
     "data": {
      "text/plain": [
       "'https://jovian.ai/polaris-codev/zerotopandas-course-project-supermarket-sales'"
      ]
     },
     "execution_count": 67,
     "metadata": {},
     "output_type": "execute_result"
    }
   ],
   "source": [
    "jovian.commit()"
   ]
  },
  {
   "cell_type": "markdown",
   "metadata": {},
   "source": [
    "## Exploratory Analysis and Visualization\n",
    "\n",
    "Here we will represent Analysis of Dataset using Graphs, Pie Charts, Bar or Histograms.\n",
    "Analysis will be done using Pandas while Matplotlib is used for visualizing the data.\n",
    "\n"
   ]
  },
  {
   "cell_type": "markdown",
   "metadata": {},
   "source": [
    "Let's begin by importing`matplotlib.pyplot` and `seaborn`."
   ]
  },
  {
   "cell_type": "code",
   "execution_count": 33,
   "metadata": {},
   "outputs": [],
   "source": [
    "import seaborn as sns\n",
    "import matplotlib\n",
    "import matplotlib.pyplot as plt\n",
    "%matplotlib inline\n",
    "\n",
    "sns.set_style('darkgrid')\n",
    "matplotlib.rcParams['font.size'] = 14\n",
    "matplotlib.rcParams['figure.figsize'] = (9, 4)\n",
    "matplotlib.rcParams['figure.facecolor'] = '#00000000'"
   ]
  },
  {
   "cell_type": "code",
   "execution_count": 34,
   "metadata": {},
   "outputs": [
    {
     "data": {
      "text/plain": [
       "5510"
      ]
     },
     "execution_count": 34,
     "metadata": {},
     "output_type": "execute_result"
    }
   ],
   "source": [
    "sales2['Quantity'].sum()"
   ]
  },
  {
   "cell_type": "code",
   "execution_count": 35,
   "metadata": {},
   "outputs": [
    {
     "data": {
      "text/plain": [
       "1042.65"
      ]
     },
     "execution_count": 35,
     "metadata": {},
     "output_type": "execute_result"
    }
   ],
   "source": [
    "sales2['Total'].max()"
   ]
  },
  {
   "cell_type": "code",
   "execution_count": 36,
   "metadata": {},
   "outputs": [
    {
     "data": {
      "text/plain": [
       "322966.749"
      ]
     },
     "execution_count": 36,
     "metadata": {},
     "output_type": "execute_result"
    }
   ],
   "source": [
    "sales2['Total'].sum()"
   ]
  },
  {
   "cell_type": "markdown",
   "metadata": {},
   "source": [
    "**1. Branch wise sales analysis** - A Graph representing amount of sales all over 3 branches"
   ]
  },
  {
   "cell_type": "code",
   "execution_count": 37,
   "metadata": {
    "scrolled": true
   },
   "outputs": [
    {
     "data": {
      "text/plain": [
       "Branch\n",
       "A    340\n",
       "B    332\n",
       "C    328\n",
       "dtype: int64"
      ]
     },
     "execution_count": 37,
     "metadata": {},
     "output_type": "execute_result"
    },
    {
     "data": {
      "image/png": "[encoded data removed]",
      "text/plain": [
       "<Figure size 648x288 with 1 Axes>"
      ]
     },
     "metadata": {},
     "output_type": "display_data"
    }
   ],
   "source": [
    "sales2.groupby('Branch').size().plot(kind='pie')\n",
    "plt.ylabel('Branch of SuperMarket')\n",
    "sales2.groupby('Branch').size()"
   ]
  },
  {
   "cell_type": "markdown",
   "metadata": {},
   "source": [
    "This graph shows sales done by Each branch of Supermarket in different cities through a pie chart.\n",
    "Branch wise sales analysis helps by comparing sales of different branch through which we can get common variables affecting sales and improvise them. For example A scheme that is popular in Branch A is not working in Branch B. We can improvise or create a new scheme for Branch B. "
   ]
  },
  {
   "cell_type": "markdown",
   "metadata": {},
   "source": [
    "**2. Gender of Customers** - This Graph show that there is almost equal no of customers for both genders"
   ]
  },
  {
   "cell_type": "code",
   "execution_count": 44,
   "metadata": {},
   "outputs": [
    {
     "data": {
      "text/plain": [
       "Gender\n",
       "Female    501\n",
       "Male      499\n",
       "dtype: int64"
      ]
     },
     "execution_count": 44,
     "metadata": {},
     "output_type": "execute_result"
    },
    {
     "data": {
      "image/png": "[encoded data removed]",
      "text/plain": [
       "<Figure size 648x288 with 1 Axes>"
      ]
     },
     "metadata": {
      "needs_background": "light"
     },
     "output_type": "display_data"
    }
   ],
   "source": [
    "sales2.groupby('Gender').size().plot(kind='bar')\n",
    "plt.ylabel('No of Genders')\n",
    "plt.xlabel('Type of Gender')\n",
    "sales2.groupby('Gender').size()"
   ]
  },
  {
   "cell_type": "markdown",
   "metadata": {},
   "source": [
    "Gender is one of the most basic components you can use to understand who your customers are and how they use your products. It is a key component in developing a solid marketing strategy, and a good marketing strategy can lead to an increase in sales.\n",
    "\n",
    "Customer Gender can detect the gender of current and future customers. All you have to do is import your customers. You can attempt to detect genders individually, in a batch, or for your entire store."
   ]
  },
  {
   "cell_type": "markdown",
   "metadata": {},
   "source": [
    "\n",
    "**3. Number of members vs normal customers** - This one shows graph representing members vs normal customers"
   ]
  },
  {
   "cell_type": "code",
   "execution_count": 39,
   "metadata": {
    "scrolled": true
   },
   "outputs": [
    {
     "data": {
      "text/plain": [
       "Customer_type\n",
       "Member    501\n",
       "Normal    499\n",
       "dtype: int64"
      ]
     },
     "execution_count": 39,
     "metadata": {},
     "output_type": "execute_result"
    },
    {
     "data": {
      "image/png": "[encoded data removed]",
      "text/plain": [
       "<Figure size 648x288 with 1 Axes>"
      ]
     },
     "metadata": {},
     "output_type": "display_data"
    }
   ],
   "source": [
    "sales2.groupby('Customer_type').size().plot(kind='pie')\n",
    "plt.ylabel('Type of Customer')\n",
    "sales2.groupby('Customer_type').size()"
   ]
  },
  {
   "cell_type": "markdown",
   "metadata": {},
   "source": [
    "Customer membership programs and rebate programs are initiatives sponsored by retailers and/or third parties that provide benefits to identified customers.  The customer membership programs involve registering consumers and, optionally charging them a fee to receive special rewards.  Rewards are benefits that may be earned and accumulated over time for subsequent redemption (deferred rewards) or they may be benefits that are earned and redeemed as discounts in the same transaction (instant rewards).\n",
    "\n",
    "It can also be used to measure Customer Loyalty. Customer loyalty is a customer's willingness to repeatedly return to a company to conduct business. This is typically due to the delightful and remarkable experiences they have with that brand."
   ]
  },
  {
   "cell_type": "markdown",
   "metadata": {},
   "source": [
    "**4. Types of Product Lines currently selling** - This represent types of Product lines being purchased by customers"
   ]
  },
  {
   "cell_type": "code",
   "execution_count": 41,
   "metadata": {
    "scrolled": false
   },
   "outputs": [
    {
     "data": {
      "text/plain": [
       "Product_line\n",
       "Electronic accessories    170\n",
       "Fashion accessories       178\n",
       "Food and beverages        174\n",
       "Health and beauty         152\n",
       "Home and lifestyle        160\n",
       "Sports and travel         166\n",
       "dtype: int64"
      ]
     },
     "execution_count": 41,
     "metadata": {},
     "output_type": "execute_result"
    },
    {
     "data": {
      "image/png": "[encoded data removed]",
      "text/plain": [
       "<Figure size 648x288 with 1 Axes>"
      ]
     },
     "metadata": {
      "needs_background": "light"
     },
     "output_type": "display_data"
    }
   ],
   "source": [
    "sales2.groupby('Product_line').size().plot(kind='bar')\n",
    "plt.ylabel('No of Products')\n",
    "plt.xlabel('Type of Product Line')\n",
    "sales2.groupby('Product_line').size()"
   ]
  },
  {
   "cell_type": "markdown",
   "metadata": {},
   "source": [
    "This Bra graph show sales of products belonging to a particular product line.\n",
    "\n",
    "A product line is a group of related products all marketed under a single brand name that is sold by the same company. Companies sell multiple product lines under their various brand names, seeking to distinguish them from each other for better usability for consumers.\n",
    "\n",
    "Companies often expand their offerings by adding to existing product lines because consumers are more likely to purchase products from brands with which they are already familiar."
   ]
  },
  {
   "cell_type": "markdown",
   "metadata": {},
   "source": [
    "**5. Total Branch wose sales** - This represents total sales done by differnet Branches.\n",
    "\n",
    "CSum - Cummulative Sum of sales"
   ]
  },
  {
   "cell_type": "code",
   "execution_count": 42,
   "metadata": {},
   "outputs": [
    {
     "data": {
      "text/plain": [
       "[106200.4, 106197.7, 110568.7]"
      ]
     },
     "execution_count": 42,
     "metadata": {},
     "output_type": "execute_result"
    }
   ],
   "source": [
    "Csum = []\n",
    "Csum.append(sales2.loc[sales2['Branch'] == 'A', 'Total'].sum())\n",
    "Csum.append(sales2.loc[sales2['Branch'] == 'B', 'Total'].sum())\n",
    "Csum.append(sales2.loc[sales2['Branch'] == 'C', 'Total'].sum())\n",
    "CSum = [round(num, 1) for num in Csum]\n",
    "CSum"
   ]
  },
  {
   "cell_type": "code",
   "execution_count": 43,
   "metadata": {
    "scrolled": true
   },
   "outputs": [
    {
     "data": {
      "image/png": "[encoded data removed]",
      "text/plain": [
       "<Figure size 648x288 with 1 Axes>"
      ]
     },
     "metadata": {
      "needs_background": "light"
     },
     "output_type": "display_data"
    }
   ],
   "source": [
    "Market_Branch = ['A','B','C']\n",
    "matplotlib.rcParams['font.size'] = 11\n",
    "plt.barh(Market_Branch, CSum)\n",
    " \n",
    "for index, value in enumerate(CSum):\n",
    "    plt.text(value, index,\n",
    "             str(value))\n",
    " \n",
    "plt.show()"
   ]
  },
  {
   "cell_type": "markdown",
   "metadata": {},
   "source": [
    "Total branch wise sales gives us the sum total of sales done by a Branch. It is helpful when taking care of finances of a Branch and during inventory management. Having a predicted figure is better than having no information at all. By this we can pre-order some items which take time or run out quickly."
   ]
  },
  {
   "cell_type": "markdown",
   "metadata": {},
   "source": [
    "Let us save and upload our work to Jovian before continuing"
   ]
  },
  {
   "cell_type": "code",
   "execution_count": 1,
   "metadata": {},
   "outputs": [],
   "source": [
    "import jovian"
   ]
  },
  {
   "cell_type": "code",
   "execution_count": null,
   "metadata": {},
   "outputs": [
    {
     "data": {
      "application/javascript": [
       "window.require && require([\"base/js/namespace\"],function(Jupyter){Jupyter.notebook.save_checkpoint()})"
      ],
      "text/plain": [
       "<IPython.core.display.Javascript object>"
      ]
     },
     "metadata": {},
     "output_type": "display_data"
    }
   ],
   "source": [
    "jovian.commit()"
   ]
  },
  {
   "cell_type": "markdown",
   "metadata": {},
   "source": [
    "## Asking and Answering Questions\n",
    "\n",
    "Here we will be using numpy and pands for answering some questions.\n",
    "The questios are as follows :\n",
    "1. Which Branch is most popular and what is its most popular product line?\n",
    "2. Which is most popular product line bought by female customers?\n",
    "3. Which is most popular product line bought by male customers?\n",
    "4. What is the difference between average ratings given by male and female customers?\n",
    "5. What is the difference between average ratings given by members and normal customers ?\n",
    "6. Show a graph which represents payment options used by customers.\n"
   ]
  },
  {
   "cell_type": "code",
   "execution_count": 45,
   "metadata": {},
   "outputs": [],
   "source": [
    "sales3= sales2[['Customer_type','Gender','City','Branch','Product_line','Unit_price','Quantity','Total','Rating']]"
   ]
  },
  {
   "cell_type": "code",
   "execution_count": 46,
   "metadata": {},
   "outputs": [
    {
     "data": {
      "text/html": [
       "<div>\n",
       "<style scoped>\n",
       "    .dataframe tbody tr th:only-of-type {\n",
       "        vertical-align: middle;\n",
       "    }\n",
       "\n",
       "    .dataframe tbody tr th {\n",
       "        vertical-align: top;\n",
       "    }\n",
       "\n",
       "    .dataframe thead th {\n",
       "        text-align: right;\n",
       "    }\n",
       "</style>\n",
       "<table border=\"1\" class=\"dataframe\">\n",
       "  <thead>\n",
       "    <tr style=\"text-align: right;\">\n",
       "      <th></th>\n",
       "      <th>Customer_type</th>\n",
       "      <th>Gender</th>\n",
       "      <th>City</th>\n",
       "      <th>Branch</th>\n",
       "      <th>Product_line</th>\n",
       "      <th>Unit_price</th>\n",
       "      <th>Quantity</th>\n",
       "      <th>Total</th>\n",
       "      <th>Rating</th>\n",
       "    </tr>\n",
       "  </thead>\n",
       "  <tbody>\n",
       "    <tr>\n",
       "      <th>856</th>\n",
       "      <td>Normal</td>\n",
       "      <td>Male</td>\n",
       "      <td>Mandalay</td>\n",
       "      <td>B</td>\n",
       "      <td>Food and beverages</td>\n",
       "      <td>21.12</td>\n",
       "      <td>8</td>\n",
       "      <td>177.408</td>\n",
       "      <td>6.3</td>\n",
       "    </tr>\n",
       "    <tr>\n",
       "      <th>567</th>\n",
       "      <td>Normal</td>\n",
       "      <td>Female</td>\n",
       "      <td>Yangon</td>\n",
       "      <td>A</td>\n",
       "      <td>Fashion accessories</td>\n",
       "      <td>65.74</td>\n",
       "      <td>9</td>\n",
       "      <td>621.243</td>\n",
       "      <td>7.7</td>\n",
       "    </tr>\n",
       "    <tr>\n",
       "      <th>245</th>\n",
       "      <td>Member</td>\n",
       "      <td>Male</td>\n",
       "      <td>Yangon</td>\n",
       "      <td>A</td>\n",
       "      <td>Home and lifestyle</td>\n",
       "      <td>47.59</td>\n",
       "      <td>8</td>\n",
       "      <td>399.756</td>\n",
       "      <td>5.7</td>\n",
       "    </tr>\n",
       "    <tr>\n",
       "      <th>696</th>\n",
       "      <td>Member</td>\n",
       "      <td>Female</td>\n",
       "      <td>Yangon</td>\n",
       "      <td>A</td>\n",
       "      <td>Sports and travel</td>\n",
       "      <td>27.04</td>\n",
       "      <td>4</td>\n",
       "      <td>113.568</td>\n",
       "      <td>6.9</td>\n",
       "    </tr>\n",
       "    <tr>\n",
       "      <th>523</th>\n",
       "      <td>Normal</td>\n",
       "      <td>Male</td>\n",
       "      <td>Naypyitaw</td>\n",
       "      <td>C</td>\n",
       "      <td>Health and beauty</td>\n",
       "      <td>62.87</td>\n",
       "      <td>2</td>\n",
       "      <td>132.027</td>\n",
       "      <td>5.0</td>\n",
       "    </tr>\n",
       "    <tr>\n",
       "      <th>829</th>\n",
       "      <td>Member</td>\n",
       "      <td>Female</td>\n",
       "      <td>Yangon</td>\n",
       "      <td>A</td>\n",
       "      <td>Electronic accessories</td>\n",
       "      <td>74.22</td>\n",
       "      <td>10</td>\n",
       "      <td>779.310</td>\n",
       "      <td>4.3</td>\n",
       "    </tr>\n",
       "    <tr>\n",
       "      <th>496</th>\n",
       "      <td>Normal</td>\n",
       "      <td>Female</td>\n",
       "      <td>Naypyitaw</td>\n",
       "      <td>C</td>\n",
       "      <td>Electronic accessories</td>\n",
       "      <td>63.22</td>\n",
       "      <td>2</td>\n",
       "      <td>132.762</td>\n",
       "      <td>8.5</td>\n",
       "    </tr>\n",
       "    <tr>\n",
       "      <th>970</th>\n",
       "      <td>Member</td>\n",
       "      <td>Female</td>\n",
       "      <td>Mandalay</td>\n",
       "      <td>B</td>\n",
       "      <td>Food and beverages</td>\n",
       "      <td>84.63</td>\n",
       "      <td>10</td>\n",
       "      <td>888.615</td>\n",
       "      <td>9.0</td>\n",
       "    </tr>\n",
       "    <tr>\n",
       "      <th>484</th>\n",
       "      <td>Member</td>\n",
       "      <td>Female</td>\n",
       "      <td>Naypyitaw</td>\n",
       "      <td>C</td>\n",
       "      <td>Sports and travel</td>\n",
       "      <td>36.98</td>\n",
       "      <td>10</td>\n",
       "      <td>388.290</td>\n",
       "      <td>7.0</td>\n",
       "    </tr>\n",
       "    <tr>\n",
       "      <th>17</th>\n",
       "      <td>Normal</td>\n",
       "      <td>Male</td>\n",
       "      <td>Yangon</td>\n",
       "      <td>A</td>\n",
       "      <td>Sports and travel</td>\n",
       "      <td>72.61</td>\n",
       "      <td>6</td>\n",
       "      <td>457.443</td>\n",
       "      <td>6.9</td>\n",
       "    </tr>\n",
       "  </tbody>\n",
       "</table>\n",
       "</div>"
      ],
      "text/plain": [
       "    Customer_type  Gender       City Branch            Product_line  \\\n",
       "856        Normal    Male   Mandalay      B      Food and beverages   \n",
       "567        Normal  Female     Yangon      A     Fashion accessories   \n",
       "245        Member    Male     Yangon      A      Home and lifestyle   \n",
       "696        Member  Female     Yangon      A       Sports and travel   \n",
       "523        Normal    Male  Naypyitaw      C       Health and beauty   \n",
       "829        Member  Female     Yangon      A  Electronic accessories   \n",
       "496        Normal  Female  Naypyitaw      C  Electronic accessories   \n",
       "970        Member  Female   Mandalay      B      Food and beverages   \n",
       "484        Member  Female  Naypyitaw      C       Sports and travel   \n",
       "17         Normal    Male     Yangon      A       Sports and travel   \n",
       "\n",
       "     Unit_price  Quantity    Total  Rating  \n",
       "856       21.12         8  177.408     6.3  \n",
       "567       65.74         9  621.243     7.7  \n",
       "245       47.59         8  399.756     5.7  \n",
       "696       27.04         4  113.568     6.9  \n",
       "523       62.87         2  132.027     5.0  \n",
       "829       74.22        10  779.310     4.3  \n",
       "496       63.22         2  132.762     8.5  \n",
       "970       84.63        10  888.615     9.0  \n",
       "484       36.98        10  388.290     7.0  \n",
       "17        72.61         6  457.443     6.9  "
      ]
     },
     "execution_count": 46,
     "metadata": {},
     "output_type": "execute_result"
    }
   ],
   "source": [
    "sales3.head(10)"
   ]
  },
  {
   "cell_type": "code",
   "execution_count": 50,
   "metadata": {},
   "outputs": [],
   "source": [
    "pd.set_option('display.max_rows', None)\n",
    "pd.set_option('display.max_columns', None)\n",
    "pd.set_option('display.width', None)"
   ]
  },
  {
   "cell_type": "markdown",
   "metadata": {},
   "source": [
    "This is for removing truncation while printing result. \n",
    "\n",
    "For example truncated string : Home and lifestyle is the most popular Product ...\n",
    "\n",
    "full string example : Home and lifestyle is the most popular Product line in Branch A"
   ]
  },
  {
   "cell_type": "markdown",
   "metadata": {},
   "source": [
    "#### Q1: Most Popular Product line in Most popular Branch "
   ]
  },
  {
   "cell_type": "code",
   "execution_count": 45,
   "metadata": {},
   "outputs": [],
   "source": [
    "pd.set_option('display.max_rows', None, 'display.max_columns', None)\n",
    "pd.set_option('display.max_colwidth', None)"
   ]
  },
  {
   "cell_type": "code",
   "execution_count": 51,
   "metadata": {
    "scrolled": true
   },
   "outputs": [
    {
     "name": "stdout",
     "output_type": "stream",
     "text": [
      "Home and lifestyle is the most popular Product line in Branch A\n"
     ]
    }
   ],
   "source": [
    "s = (sales3['Product_line'][sales3.Branch=='A'].mode() + \" is the most popular Product line in Branch \" + sales3['Branch'].mode())\n",
    "\n",
    "print(s.to_string(index=False, dtype=False))"
   ]
  },
  {
   "cell_type": "markdown",
   "metadata": {},
   "source": [
    "This Question helps by finding most popular product line sold by most popular branch. We can use this data during sales or other events to highlight that product line. This is a good example of making strong points more strong.\n",
    "Here The most popular Branch is **A** and most products sold by this branch are of **Home and Lifestyle Product line**."
   ]
  },
  {
   "cell_type": "markdown",
   "metadata": {},
   "source": [
    "#### Q2: Female Most popular Product line "
   ]
  },
  {
   "cell_type": "code",
   "execution_count": 56,
   "metadata": {},
   "outputs": [
    {
     "name": "stdout",
     "output_type": "stream",
     "text": [
      "Fashion accessories is the most popular product line used by Female Customers\n"
     ]
    }
   ],
   "source": [
    "a = (sales3['Product_line'][sales3.Gender == 'Female'].mode() + \" is the most popular product line used by Female Customers\" )\n",
    "\n",
    "print(a.to_string(index=False, dtype=False))"
   ]
  },
  {
   "cell_type": "markdown",
   "metadata": {},
   "source": [
    "This question is to find product line which is bought by **Female** customer and is sold the most. We can see **Fashion accessories** is the product line bought by females the most. \n",
    "\n",
    "This kind of data is helpful while generalizing data on basis of genders to find a possible trend or pattern which can be used in further management to increase sales."
   ]
  },
  {
   "cell_type": "markdown",
   "metadata": {},
   "source": [
    "#### Q3: Male most popular Product line "
   ]
  },
  {
   "cell_type": "code",
   "execution_count": 52,
   "metadata": {},
   "outputs": [
    {
     "name": "stdout",
     "output_type": "stream",
     "text": [
      "Health and beauty is the most popular product line used by Male Customers\n"
     ]
    }
   ],
   "source": [
    "b = (sales3['Product_line'][sales3.Gender == 'Male'].mode() + \" is the most popular product line used by Male Customers\" )\n",
    "\n",
    "print(b.to_string(index=False, dtype=False))"
   ]
  },
  {
   "cell_type": "markdown",
   "metadata": {},
   "source": [
    "This question is to find product line which is bought by **Male customer** and is sold the most. We can see product belonging to **Health and Beauty** product line are bouth the most by male customers.\n",
    "\n",
    "This kind of data is helpful while generalizing data on basis of genders to find a possible trend or pattern which can be used in further management to increase sales."
   ]
  },
  {
   "cell_type": "markdown",
   "metadata": {},
   "source": [
    "#### Q4: Rating given by customers who are members - Females vs Males"
   ]
  },
  {
   "cell_type": "code",
   "execution_count": 53,
   "metadata": {},
   "outputs": [
    {
     "name": "stdout",
     "output_type": "stream",
     "text": [
      "The Average rating given by male customers is 6.980961923847705\n"
     ]
    }
   ],
   "source": [
    "c = str(sales3['Rating'][sales3.Gender== 'Male'].mean())\n",
    "print(\"The Average rating given by male customers is \" + c)"
   ]
  },
  {
   "cell_type": "code",
   "execution_count": 54,
   "metadata": {
    "scrolled": true
   },
   "outputs": [
    {
     "name": "stdout",
     "output_type": "stream",
     "text": [
      "The Average rating given by Female customers is 6.964471057884226\n"
     ]
    }
   ],
   "source": [
    "d =  str(sales3['Rating'][sales3.Gender== 'Female'].mean())\n",
    "print(\"The Average rating given by Female customers is \" + d)"
   ]
  },
  {
   "cell_type": "markdown",
   "metadata": {},
   "source": [
    "In this question we can see comparison of average of ratings given by customers of different genders.\n",
    "\n",
    "**The averge rating of female customers : 6.964471057884226**  \n",
    "**The averge rating of male customers    : 6.980961923847705**\n",
    "\n",
    "This kind of result indicates male customers are easier to satisfy than compared to female customers.\n",
    "This kind of data is helpful while generalizing data on basis of genders to find a possible trend or pattern which can be used in further management to increase sales."
   ]
  },
  {
   "cell_type": "markdown",
   "metadata": {},
   "source": [
    "#### Q5: Average Ratings given by Members vs Normal Customers"
   ]
  },
  {
   "cell_type": "code",
   "execution_count": 55,
   "metadata": {},
   "outputs": [
    {
     "name": "stdout",
     "output_type": "stream",
     "text": [
      "Average rating given by Members is - 6.940319361277448\n",
      "Average rating given by Normal Customers - 7.005210420841684\n"
     ]
    }
   ],
   "source": [
    "e = str(sales3['Rating'][sales3.Customer_type == 'Member'].mean())\n",
    "f = str(sales3['Rating'][sales3.Customer_type == 'Normal'].mean())\n",
    "print(\"Average rating given by Members is - \" + e )\n",
    "print(\"Average rating given by Normal Customers - \" + f)"
   ]
  },
  {
   "cell_type": "markdown",
   "metadata": {},
   "source": [
    "In this question we compare average of ratings given by customers who are members to those who are not members.\n",
    "\n",
    "**Average rating given by Members is - 6.940319361277448**\n",
    "\n",
    "**Average rating given by Normal Customers - 7.005210420841684**\n",
    "\n",
    "\n",
    "This kind of data is used while taking measure of customer loyalty generally."
   ]
  },
  {
   "cell_type": "markdown",
   "metadata": {},
   "source": [
    "#### Q6: Graph representing Payment Options"
   ]
  },
  {
   "cell_type": "code",
   "execution_count": 74,
   "metadata": {},
   "outputs": [
    {
     "data": {
      "text/plain": [
       "Payment\n",
       "Cash           344\n",
       "Credit card    311\n",
       "Ewallet        345\n",
       "dtype: int64"
      ]
     },
     "execution_count": 74,
     "metadata": {},
     "output_type": "execute_result"
    },
    {
     "data": {
      "image/png": "[encoded data removed]",
      "text/plain": [
       "<Figure size 648x288 with 1 Axes>"
      ]
     },
     "metadata": {
      "needs_background": "light"
     },
     "output_type": "display_data"
    }
   ],
   "source": [
    "sales_df.groupby('Payment').size().plot(kind='bar')\n",
    "plt.ylabel('No of Customers')\n",
    "plt.xlabel('Type of Payment Options')\n",
    "sales_df.groupby('Payment').size()"
   ]
  },
  {
   "cell_type": "markdown",
   "metadata": {},
   "source": [
    "Here a Bar graph is used to represent the payment methods used by customers. \n",
    "This kind of data hepls in finding current trends and patterns.\n",
    "\n",
    "**Cash users : 344** \n",
    "\n",
    "**Credit card users : 311** \n",
    "\n",
    "**Ewallet users : 345**"
   ]
  },
  {
   "cell_type": "markdown",
   "metadata": {},
   "source": [
    "Let us save and upload our work to Jovian before continuing."
   ]
  },
  {
   "cell_type": "code",
   "execution_count": 75,
   "metadata": {},
   "outputs": [],
   "source": [
    "import jovian"
   ]
  },
  {
   "cell_type": "code",
   "execution_count": 76,
   "metadata": {},
   "outputs": [
    {
     "data": {
      "application/javascript": [
       "window.require && require([\"base/js/namespace\"],function(Jupyter){Jupyter.notebook.save_checkpoint()})"
      ],
      "text/plain": [
       "<IPython.core.display.Javascript object>"
      ]
     },
     "metadata": {},
     "output_type": "display_data"
    },
    {
     "name": "stdout",
     "output_type": "stream",
     "text": [
      "[jovian] Updating notebook \"polaris-codev/zerotopandas-course-project-supermarket-sales\" on https://jovian.ai/\u001b[0m\n",
      "[jovian] Committed successfully! https://jovian.ai/polaris-codev/zerotopandas-course-project-supermarket-sales\u001b[0m\n"
     ]
    },
    {
     "data": {
      "text/plain": [
       "'https://jovian.ai/polaris-codev/zerotopandas-course-project-supermarket-sales'"
      ]
     },
     "execution_count": 76,
     "metadata": {},
     "output_type": "execute_result"
    }
   ],
   "source": [
    "jovian.commit()"
   ]
  },
  {
   "cell_type": "markdown",
   "metadata": {},
   "source": [
    "## Inferences and Conclusion\n",
    "\n",
    "From the above analysis and visualization, we can understand these following points :\n",
    "1. Branch A is most popular\n",
    "2. There are more female customers in comparison to males\n",
    "3. Alomst 50% customers are members (501 out of 1000)\n",
    "4. Fashion accessories are most popular and Health and beauty are least popular product lines\n",
    "5. Total sales done by branches are A = 106200.4, B = 106197.7, C = 110568.7 \n",
    "6. Home and lifestyle is the most popular Product line in Branch A\n",
    "7. Fashion accessories is the most popular product line used by Female Customers\n",
    "8. Health and beauty is the most popular product line used by Male Customers\n",
    "9. The Average rating given by Female customers vs Male customers is 6.964 vs 6.980\n",
    "10. Average rating given by Normal Customers vs Members is 7.005 vs 6.940\n",
    "11. Ewallet is most popular payment method with almost equal to Cash"
   ]
  },
  {
   "cell_type": "code",
   "execution_count": 57,
   "metadata": {},
   "outputs": [],
   "source": [
    "import jovian"
   ]
  },
  {
   "cell_type": "code",
   "execution_count": 58,
   "metadata": {},
   "outputs": [
    {
     "data": {
      "application/javascript": [
       "window.require && require([\"base/js/namespace\"],function(Jupyter){Jupyter.notebook.save_checkpoint()})"
      ],
      "text/plain": [
       "<IPython.core.display.Javascript object>"
      ]
     },
     "metadata": {},
     "output_type": "display_data"
    },
    {
     "name": "stdout",
     "output_type": "stream",
     "text": [
      "[jovian] Updating notebook \"polaris-codev/zerotopandas-course-project-supermarket-sales\" on https://jovian.ai/\u001b[0m\n",
      "[jovian] Committed successfully! https://jovian.ai/polaris-codev/zerotopandas-course-project-supermarket-sales\u001b[0m\n"
     ]
    },
    {
     "data": {
      "text/plain": [
       "'https://jovian.ai/polaris-codev/zerotopandas-course-project-supermarket-sales'"
      ]
     },
     "execution_count": 58,
     "metadata": {},
     "output_type": "execute_result"
    }
   ],
   "source": [
    "jovian.commit()"
   ]
  },
  {
   "cell_type": "markdown",
   "metadata": {},
   "source": [
    "## References and Future Work\n",
    "\n",
    "**Future work**\n",
    "\n",
    "This study on this dataset can further be extended in future by adding more Branches in different countries. By this we can analyze Customer's trends and moods which can help before filling the inventory.\n",
    "This study can also help in online E-commerce analysis."
   ]
  },
  {
   "cell_type": "markdown",
   "metadata": {},
   "source": [
    "**References**:\n",
    "\n",
    "Matplotlib documentation: https://matplotlib.org/stable/gallery/\n",
    "Seaborn documentation: https://seaborn.pydata.org/tutorial.html\n",
    "Pandas documentation: https://pandas.pydata.org/docs/reference/api/pandas.DataFrame.merge.html\n",
    "Numpy documentation: https://numpy.org/doc/\n",
    "Dataset: https://www.kaggle.com/datasets/aungpyaeap/supermarket-sales?resource=download\n"
   ]
  },
  {
   "cell_type": "code",
   "execution_count": 32,
   "metadata": {},
   "outputs": [],
   "source": [
    "import jovian"
   ]
  },
  {
   "cell_type": "code",
   "execution_count": null,
   "metadata": {
    "scrolled": true
   },
   "outputs": [
    {
     "data": {
      "application/javascript": [
       "window.require && require([\"base/js/namespace\"],function(Jupyter){Jupyter.notebook.save_checkpoint()})"
      ],
      "text/plain": [
       "<IPython.core.display.Javascript object>"
      ]
     },
     "metadata": {},
     "output_type": "display_data"
    }
   ],
   "source": [
    "jovian.commit()"
   ]
  },
  {
   "cell_type": "code",
   "execution_count": null,
   "metadata": {},
   "outputs": [],
   "source": []
  }
 ],
 "metadata": {
  "language_info": {
   "codemirror_mode": {
    "name": "ipython",
    "version": 3
   },
   "file_extension": ".py",
   "mimetype": "text/x-python",
   "name": "python",
   "nbconvert_exporter": "python",
   "pygments_lexer": "ipython3",
   "version": "3.9.7"
  }
 },
 "nbformat": 4,
 "nbformat_minor": 4
}